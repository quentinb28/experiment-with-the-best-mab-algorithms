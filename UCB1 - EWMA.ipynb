{
 "cells": [
  {
   "cell_type": "markdown",
   "metadata": {},
   "source": [
    "# UCB1 BanditArm class"
   ]
  },
  {
   "cell_type": "code",
   "execution_count": null,
   "metadata": {},
   "outputs": [],
   "source": [
    "import numpy as np\n",
    "\n",
    "# new class: takes into account exponential weighted moving average\n",
    "class BanditArm:\n",
    "\n",
    "    def __init__(self, all_p, period, alpha):\n",
    "        self.all_p = all_p\n",
    "        self.p = self.all_p[0]\n",
    "        self.p_estimate = 0.\n",
    "        self.N = 0.\n",
    "        \n",
    "        self.rewards = []\n",
    "\n",
    "        self.period = period\n",
    "        self.alpha = alpha\n",
    "        \n",
    "        self.ewma = 0.\n",
    "\n",
    "    def pull(self):\n",
    "        x = np.random.random() < self.p\n",
    "        self.rewards.append(x)\n",
    "        if len(self.rewards) > 0 and len(self.rewards) % self.period == 0:\n",
    "            if self.ewma == 0:\n",
    "                self.ewma = sum(self.rewards)/self.period\n",
    "            else:\n",
    "                self.ewma = self.ewma * (1-self.alpha) + np.mean(self.rewards[-3:]) * self.alpha\n",
    "        return x\n",
    "\n",
    "    def update(self, x):\n",
    "        self.N += 1.\n",
    "        self.p_estimate = ((self.N - 1) * self.p_estimate + x) / self.N\n",
    "\n",
    "    def update_p(self, cursor_p):\n",
    "        self.p = self.all_p[cursor_p]"
   ]
  },
  {
   "cell_type": "markdown",
   "metadata": {},
   "source": [
    "# Problem Conditions"
   ]
  },
  {
   "cell_type": "code",
   "execution_count": null,
   "metadata": {},
   "outputs": [],
   "source": [
    "num_trials = 3000\n",
    "\n",
    "EPSILON = 0.1\n",
    "\n",
    "periods = [3,4,5,6,7,8]\n",
    "\n",
    "alphas = [0.3,0.4,0.5,0.6,0.7,0.8]\n",
    "\n",
    "\"\"\"\n",
    "a = [0.2, 0.8, 0.3]\n",
    "b = [0.9, 0.7, 0.1]\n",
    "c = [0.3, 0.4, 0.4]\n",
    "\"\"\" \n",
    "\n",
    "a_p, a_rate = [0.25, 0.5, 0.75], 1\n",
    "b_p, b_rate = [0.75, 0.25, 0.5], 1.5\n",
    "c_p, c_rate = [0.5, 0.75, 0.25], 1.2\n",
    "\n",
    "probabilities = [a_p, b_p, c_p]\n",
    "\n",
    "rates = [a_rate, b_rate, c_rate]\n",
    "\n",
    "random_expected_win_rate = np.mean([np.mean([p[_] for p in probabilities]) for _ in range(len(probabilities))])\n",
    "\n",
    "max_expected_win_rate = np.mean([np.max([x[_] for x in probabilities]) for _ in range(len(probabilities))])\n",
    "\n",
    "max_uplift = max_expected_win_rate / random_expected_win_rate\n",
    "\n",
    "random_expected_win_rate, max_expected_win_rate, max_uplift"
   ]
  }
 ],
 "metadata": {
  "kernelspec": {
   "display_name": "Python 3",
   "language": "python",
   "name": "python3"
  },
  "language_info": {
   "codemirror_mode": {
    "name": "ipython",
    "version": 3
   },
   "file_extension": ".py",
   "mimetype": "text/x-python",
   "name": "python",
   "nbconvert_exporter": "python",
   "pygments_lexer": "ipython3",
   "version": "3.7.3"
  }
 },
 "nbformat": 4,
 "nbformat_minor": 2
}
